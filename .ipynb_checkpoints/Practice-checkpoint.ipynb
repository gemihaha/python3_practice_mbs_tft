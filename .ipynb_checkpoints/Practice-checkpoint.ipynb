{
 "cells": [
  {
   "cell_type": "markdown",
   "metadata": {},
   "source": [
    "## Practice 3-2"
   ]
  },
  {
   "cell_type": "code",
   "execution_count": null,
   "metadata": {
    "scrolled": true
   },
   "outputs": [],
   "source": [
    "def vowel(words) :\n",
    "    count = 0\n",
    "    li = ['a', 'e','i','o','u']\n",
    "    for i in range(len(words)) :\n",
    "        if words[i] in li : \n",
    "            count+=1\n",
    "\n",
    "    print(count)\n",
    "\n",
    "\n",
    "vowel('apples')\n",
    "vowel('Hello Mobis')"
   ]
  },
  {
   "cell_type": "markdown",
   "metadata": {},
   "source": [
    "## Practice 3-3"
   ]
  },
  {
   "cell_type": "code",
   "execution_count": null,
   "metadata": {},
   "outputs": [],
   "source": [
    "def expand_rectangle(w,h) :\n",
    "    a1 = w*h\n",
    "    w = w+5\n",
    "    h = h*2\n",
    "    a2 = w*h\n",
    "    \n",
    "    ratio = a1/a2\n",
    "    \n",
    "    print('Width = {}'.format(w))\n",
    "    print('Height = {}'.format(h))\n",
    "    print('Area Ratio = {:.2f}'.format(ratio))\n",
    "    \n",
    "    \n",
    "expand_rectangle(5,10)  "
   ]
  },
  {
   "cell_type": "markdown",
   "metadata": {},
   "source": [
    "## Practice 3-4"
   ]
  },
  {
   "cell_type": "code",
   "execution_count": null,
   "metadata": {},
   "outputs": [],
   "source": [
    "def calculator(*int1) :\n",
    "    sum1=0\n",
    "    cnt=0\n",
    "    for i in int1 : \n",
    "        if(i==0) : \n",
    "            break\n",
    "        else : \n",
    "            sum1 += i \n",
    "            cnt+=1\n",
    "            \n",
    "    avg = int(sum1 / cnt)\n",
    "    #print(len(int1))\n",
    "    #print('({},{:.0f})'.format(sum1,avg))\n",
    "    return sum1, avg"
   ]
  },
  {
   "cell_type": "code",
   "execution_count": null,
   "metadata": {},
   "outputs": [],
   "source": [
    "calculator(-3,2,0,4,5)"
   ]
  },
  {
   "cell_type": "code",
   "execution_count": null,
   "metadata": {},
   "outputs": [],
   "source": [
    "calculator(1,3,5,7,9)"
   ]
  },
  {
   "cell_type": "code",
   "execution_count": null,
   "metadata": {},
   "outputs": [],
   "source": [
    "calculator(1,2,3,4,5)"
   ]
  },
  {
   "cell_type": "markdown",
   "metadata": {},
   "source": [
    "## Practice 3-5"
   ]
  },
  {
   "cell_type": "code",
   "execution_count": null,
   "metadata": {},
   "outputs": [],
   "source": [
    "def search(lst, num) : \n",
    "    try : \n",
    "        for i in range(len(lst)) : \n",
    "            if lst[i] == num :\n",
    "                return i\n",
    "            else:\n",
    "                raise exception\n",
    "    except : \n",
    "            return False"
   ]
  },
  {
   "cell_type": "code",
   "execution_count": null,
   "metadata": {},
   "outputs": [],
   "source": [
    "mylist = [1,2,3]\n",
    "search(mylist,1)"
   ]
  },
  {
   "cell_type": "code",
   "execution_count": null,
   "metadata": {},
   "outputs": [],
   "source": [
    "search(mylist,10)"
   ]
  },
  {
   "cell_type": "code",
   "execution_count": null,
   "metadata": {},
   "outputs": [],
   "source": [
    "mylist"
   ]
  },
  {
   "cell_type": "markdown",
   "metadata": {},
   "source": [
    "## practice3 제어문 _ 예제문제1"
   ]
  },
  {
   "cell_type": "code",
   "execution_count": null,
   "metadata": {
    "scrolled": true
   },
   "outputs": [],
   "source": [
    "for i in range(5):\n",
    "    print('*'*(i+1))"
   ]
  },
  {
   "cell_type": "markdown",
   "metadata": {},
   "source": [
    "## practice3 제어문 _ 예제문제3"
   ]
  },
  {
   "cell_type": "code",
   "execution_count": 1,
   "metadata": {
    "scrolled": true
   },
   "outputs": [
    {
     "name": "stdout",
     "output_type": "stream",
     "text": [
      "음식 이름 입력 : 초밥\n",
      "식당 D, 가격 15,000 원\n"
     ]
    }
   ],
   "source": [
    "restaurant_list = [{'상호': 'A', '메뉴': '피자', '가격': 20000},\n",
    "                     {'상호': 'B', '메뉴': '치킨', '가격': 18000},\n",
    "                     {'상호': 'C', '메뉴': '짜장면', '가격': 5000},\n",
    "                     {'상호': 'D', '메뉴': '초밥', '가격': 15000},\n",
    "                     {'상호': 'E', '메뉴': '떡볶이', '가격': 8000}, \n",
    "                     {'상호': 'F', '메뉴': '족발', '가격': 30000}]\n",
    "    \n",
    "x = input(\"음식 이름 입력 : \")\n",
    "n=0\n",
    "for i in restaurant_list : \n",
    "    if x in i['메뉴'] : \n",
    "        print('식당 {}, 가격 {:,} 원'.format(i['상호'], i['가격']))\n",
    "        n += 1\n",
    "        break\n",
    "        \n",
    "    #elif  n <= len(restaurant_list)-1 : \n",
    "        #print(len(restaurant_list),n)\n",
    "        #n += 1\n",
    "if n==0 :          \n",
    "    print('결과가 없습니다.')\n",
    "\n",
    "\n"
   ]
  },
  {
   "cell_type": "markdown",
   "metadata": {},
   "source": [
    "## Practice 3-6"
   ]
  },
  {
   "cell_type": "code",
   "execution_count": 14,
   "metadata": {},
   "outputs": [],
   "source": [
    "def search_char(words,alpabet) : \n",
    "    for i in range(len(words)) : \n",
    "#        n=0\n",
    "        if words[i] == alpabet : \n",
    "            return i\n",
    "#            n+=1\n",
    "#            break\n",
    "    #if n==0 : \n",
    "    return -1"
   ]
  },
  {
   "cell_type": "code",
   "execution_count": 15,
   "metadata": {},
   "outputs": [
    {
     "data": {
      "text/plain": [
       "4"
      ]
     },
     "execution_count": 15,
     "metadata": {},
     "output_type": "execute_result"
    }
   ],
   "source": [
    "search_char('python','o')"
   ]
  },
  {
   "cell_type": "code",
   "execution_count": 16,
   "metadata": {},
   "outputs": [
    {
     "data": {
      "text/plain": [
       "0"
      ]
     },
     "execution_count": 16,
     "metadata": {},
     "output_type": "execute_result"
    }
   ],
   "source": [
    "search_char('mobis','m')"
   ]
  },
  {
   "cell_type": "code",
   "execution_count": 17,
   "metadata": {},
   "outputs": [
    {
     "data": {
      "text/plain": [
       "1"
      ]
     },
     "execution_count": 17,
     "metadata": {},
     "output_type": "execute_result"
    }
   ],
   "source": [
    "search_char('바나나','나')"
   ]
  },
  {
   "cell_type": "code",
   "execution_count": 18,
   "metadata": {},
   "outputs": [
    {
     "data": {
      "text/plain": [
       "-1"
      ]
     },
     "execution_count": 18,
     "metadata": {},
     "output_type": "execute_result"
    }
   ],
   "source": [
    "search_char('사과','오')"
   ]
  },
  {
   "cell_type": "markdown",
   "metadata": {},
   "source": [
    "## Practice 3-7"
   ]
  },
  {
   "cell_type": "code",
   "execution_count": 50,
   "metadata": {},
   "outputs": [],
   "source": [
    "def reverse_text(*args) :\n",
    "    odd_cnt = 0\n",
    "  #  tmp_str = []\n",
    "    for i in range(len(args)) : \n",
    "        if len(args[i]) % 2 == 0 : \n",
    "            #print(len(args))\n",
    "            print(args[i])\n",
    "        else : \n",
    "            print(args[i][::-1])\n",
    "   #         tmp_str = args[::-1]\n",
    "   #         print(trm_str)\n",
    "            odd_cnt += 1\n",
    "    \n",
    "    return odd_cnt\n",
    "            \n",
    "            \n",
    "            \n",
    "        "
   ]
  },
  {
   "cell_type": "code",
   "execution_count": 51,
   "metadata": {},
   "outputs": [
    {
     "name": "stdout",
     "output_type": "stream",
     "text": [
      "드럼\n",
      "스이베\n",
      "기타\n",
      "드보키\n",
      "보컬\n"
     ]
    },
    {
     "data": {
      "text/plain": [
       "2"
      ]
     },
     "execution_count": 51,
     "metadata": {},
     "output_type": "execute_result"
    }
   ],
   "source": [
    "reverse_text('드럼','베이스','기타','키보드','보컬')"
   ]
  },
  {
   "cell_type": "code",
   "execution_count": 719,
   "metadata": {},
   "outputs": [
    {
     "ename": "NameError",
     "evalue": "name 'odd_cnt' is not defined",
     "output_type": "error",
     "traceback": [
      "\u001b[1;31m---------------------------------------------------------------------------\u001b[0m",
      "\u001b[1;31mNameError\u001b[0m                                 Traceback (most recent call last)",
      "\u001b[1;32m<ipython-input-719-48547511d876>\u001b[0m in \u001b[0;36m<module>\u001b[1;34m\u001b[0m\n\u001b[1;32m----> 1\u001b[1;33m \u001b[0modd_cnt\u001b[0m\u001b[1;33m\u001b[0m\u001b[1;33m\u001b[0m\u001b[0m\n\u001b[0m",
      "\u001b[1;31mNameError\u001b[0m: name 'odd_cnt' is not defined"
     ]
    }
   ],
   "source": [
    "odd_cnt"
   ]
  },
  {
   "cell_type": "markdown",
   "metadata": {},
   "source": [
    "## Practice 3-8"
   ]
  },
  {
   "cell_type": "code",
   "execution_count": 104,
   "metadata": {},
   "outputs": [],
   "source": [
    "def sort_scores(*args) : \n",
    "    tmp_lst = []\n",
    "    for i in args :\n",
    "        tmp_lst.append(i)\n",
    "    tmp_lst.sort(reverse=True)\n",
    "    \n",
    "    for i in tmp_lst : \n",
    "        print(i)\n",
    "    \n",
    "        \n",
    "    "
   ]
  },
  {
   "cell_type": "code",
   "execution_count": 105,
   "metadata": {},
   "outputs": [
    {
     "name": "stdout",
     "output_type": "stream",
     "text": [
      "100\n",
      "97\n",
      "88\n",
      "74\n",
      "65\n",
      "53\n",
      "47\n",
      "27\n"
     ]
    }
   ],
   "source": [
    "sort_scores(100,27,65,88,47,97,74,53)"
   ]
  },
  {
   "cell_type": "markdown",
   "metadata": {},
   "source": [
    "## Practice 3-9"
   ]
  },
  {
   "cell_type": "code",
   "execution_count": 720,
   "metadata": {},
   "outputs": [],
   "source": [
    "\n",
    "\n",
    "def sort_by_word_length(a) : \n",
    "\n",
    "    \n",
    "    tmp_lst = sorted(a, key=lambda f:(len(f), f), reverse=True)\n",
    "    \n",
    "    \n",
    "    print(tmp_lst)\n",
    "\n",
    "        "
   ]
  },
  {
   "cell_type": "code",
   "execution_count": null,
   "metadata": {},
   "outputs": [],
   "source": []
  },
  {
   "cell_type": "code",
   "execution_count": 721,
   "metadata": {},
   "outputs": [],
   "source": [
    "colors = ['red','blue','green','brown','gray']"
   ]
  },
  {
   "cell_type": "code",
   "execution_count": 722,
   "metadata": {},
   "outputs": [],
   "source": [
    "instruments = ['피아노','바이올린','첼로','기타','드럼']"
   ]
  },
  {
   "cell_type": "code",
   "execution_count": 723,
   "metadata": {},
   "outputs": [
    {
     "name": "stdout",
     "output_type": "stream",
     "text": [
      "['green', 'brown', 'gray', 'blue', 'red']\n"
     ]
    }
   ],
   "source": [
    "sort_by_word_length(colors)"
   ]
  },
  {
   "cell_type": "code",
   "execution_count": 724,
   "metadata": {},
   "outputs": [
    {
     "name": "stdout",
     "output_type": "stream",
     "text": [
      "['바이올린', '피아노', '첼로', '드럼', '기타']\n"
     ]
    }
   ],
   "source": [
    "sort_by_word_length(instruments)"
   ]
  },
  {
   "cell_type": "markdown",
   "metadata": {},
   "source": [
    "# 파일처리"
   ]
  },
  {
   "cell_type": "code",
   "execution_count": 725,
   "metadata": {},
   "outputs": [],
   "source": [
    "f = open('new.txt','w')\n",
    "for i in range(1,11) : \n",
    "    data = '%d 번째 줄입니다.\\n' %i\n",
    "    f.write(data)\n",
    "    \n",
    "f.close()"
   ]
  },
  {
   "cell_type": "code",
   "execution_count": 726,
   "metadata": {},
   "outputs": [
    {
     "name": "stdout",
     "output_type": "stream",
     "text": [
      "<class 'str'>\n",
      "1 번째 줄입니다.\n",
      "2 번째 줄입니다.\n",
      "3 번째 줄입니다.\n",
      "4 번째 줄입니다.\n",
      "5 번째 줄입니다.\n",
      "6 번째 줄입니다.\n",
      "7 번째 줄입니다.\n",
      "8 번째 줄입니다.\n",
      "9 번째 줄입니다.\n",
      "10 번째 줄입니다.\n",
      "\n"
     ]
    }
   ],
   "source": [
    "f = open('new.txt','r')\n",
    "\n",
    "data = f.read()\n",
    "print(type(data))\n",
    "print(data)\n",
    "f.close()"
   ]
  },
  {
   "cell_type": "code",
   "execution_count": 727,
   "metadata": {},
   "outputs": [
    {
     "name": "stdout",
     "output_type": "stream",
     "text": [
      "1 번째 줄입니다.\n",
      "2 번째 줄입니다.\n",
      "3 번째 줄입니다.\n",
      "4 번째 줄입니다.\n",
      "5 번째 줄입니다.\n",
      "6 번째 줄입니다.\n",
      "7 번째 줄입니다.\n",
      "8 번째 줄입니다.\n",
      "9 번째 줄입니다.\n",
      "10 번째 줄입니다.\n"
     ]
    }
   ],
   "source": [
    "f = open('new.txt','r')\n",
    "\n",
    "while True : \n",
    "    line = f.readline()\n",
    "    if not line : \n",
    "        break\n",
    "    print(line, end='')\n",
    "\n",
    "\n",
    "f.close()"
   ]
  },
  {
   "cell_type": "code",
   "execution_count": 728,
   "metadata": {},
   "outputs": [
    {
     "name": "stdout",
     "output_type": "stream",
     "text": [
      "['1 번째 줄입니다.', '2 번째 줄입니다.', '3 번째 줄입니다.', '4 번째 줄입니다.', '5 번째 줄입니다.', '6 번째 줄입니다.', '7 번째 줄입니다.', '8 번째 줄입니다.', '9 번째 줄입니다.', '10 번째 줄입니다.', '']\n",
      "1 번째 줄입니다.2 번째 줄입니다.3 번째 줄입니다.4 번째 줄입니다.5 번째 줄입니다.6 번째 줄입니다.7 번째 줄입니다.8 번째 줄입니다.9 번째 줄입니다.10 번째 줄입니다."
     ]
    }
   ],
   "source": [
    "f = open('new.txt','r')\n",
    "\n",
    "#lines = f.readlines()\n",
    "\n",
    "# 공백을 제거하고 가져오고 싶을때 \n",
    "lines = f.read().split('\\n')\n",
    "print(lines)\n",
    "\n",
    "for line in lines : \n",
    "    print(line, end ='')"
   ]
  },
  {
   "cell_type": "code",
   "execution_count": 729,
   "metadata": {},
   "outputs": [],
   "source": [
    "f = open('new.txt','a')\n",
    "\n",
    "for i in range(11,20) :\n",
    "    data = '%d 번째 줄입니다.\\n' %i\n",
    "    f.write(data)\n",
    "\n",
    "f.close()"
   ]
  },
  {
   "cell_type": "code",
   "execution_count": 730,
   "metadata": {},
   "outputs": [
    {
     "data": {
      "text/plain": [
       "['Introduction to Python']"
      ]
     },
     "execution_count": 730,
     "metadata": {},
     "output_type": "execute_result"
    }
   ],
   "source": [
    "eng = 'Introduction to Python'\n",
    "\n",
    "#eng.split()\n",
    "#eng.split('t',2)\n",
    "#eng.rsplit('o',2)\n",
    "eng.splitlines(1)"
   ]
  },
  {
   "cell_type": "markdown",
   "metadata": {},
   "source": [
    "## Practice 4-1"
   ]
  },
  {
   "cell_type": "code",
   "execution_count": 731,
   "metadata": {
    "scrolled": true
   },
   "outputs": [
    {
     "name": "stdout",
     "output_type": "stream",
     "text": [
      "파일 이름을 입력하세요 : \n"
     ]
    },
    {
     "ename": "FileNotFoundError",
     "evalue": "[Errno 2] No such file or directory: ''",
     "output_type": "error",
     "traceback": [
      "\u001b[1;31m---------------------------------------------------------------------------\u001b[0m",
      "\u001b[1;31mFileNotFoundError\u001b[0m                         Traceback (most recent call last)",
      "\u001b[1;32m<ipython-input-731-677e2dc0b217>\u001b[0m in \u001b[0;36m<module>\u001b[1;34m\u001b[0m\n\u001b[0;32m      1\u001b[0m \u001b[0mfile_name\u001b[0m \u001b[1;33m=\u001b[0m \u001b[0minput\u001b[0m\u001b[1;33m(\u001b[0m\u001b[1;34m\"파일 이름을 입력하세요 : \"\u001b[0m\u001b[1;33m)\u001b[0m\u001b[1;33m\u001b[0m\u001b[1;33m\u001b[0m\u001b[0m\n\u001b[1;32m----> 2\u001b[1;33m \u001b[0mf\u001b[0m \u001b[1;33m=\u001b[0m \u001b[0mopen\u001b[0m\u001b[1;33m(\u001b[0m\u001b[0mfile_name\u001b[0m\u001b[1;33m,\u001b[0m\u001b[1;34m'r'\u001b[0m\u001b[1;33m,\u001b[0m \u001b[0mencoding\u001b[0m \u001b[1;33m=\u001b[0m \u001b[1;34m'UTF-8'\u001b[0m\u001b[1;33m)\u001b[0m\u001b[1;33m\u001b[0m\u001b[1;33m\u001b[0m\u001b[0m\n\u001b[0m\u001b[0;32m      3\u001b[0m \u001b[1;33m\u001b[0m\u001b[0m\n\u001b[0;32m      4\u001b[0m \u001b[0mlines\u001b[0m \u001b[1;33m=\u001b[0m \u001b[0mf\u001b[0m\u001b[1;33m.\u001b[0m\u001b[0mreadlines\u001b[0m\u001b[1;33m(\u001b[0m\u001b[1;33m)\u001b[0m\u001b[1;33m\u001b[0m\u001b[1;33m\u001b[0m\u001b[0m\n\u001b[0;32m      5\u001b[0m \u001b[1;33m\u001b[0m\u001b[0m\n",
      "\u001b[1;31mFileNotFoundError\u001b[0m: [Errno 2] No such file or directory: ''"
     ]
    }
   ],
   "source": [
    "file_name = input(\"파일 이름을 입력하세요 : \")\n",
    "f = open(file_name,'r', encoding = 'UTF-8')\n",
    "\n",
    "lines = f.readlines()\n",
    "\n",
    "for i in range(len(lines)) : \n",
    "    print('{}:'.format(i+1), lines[i])\n",
    "\n",
    "f.close()"
   ]
  },
  {
   "cell_type": "markdown",
   "metadata": {},
   "source": [
    "## Practice 4-2"
   ]
  },
  {
   "cell_type": "code",
   "execution_count": 12,
   "metadata": {},
   "outputs": [
    {
     "name": "stdout",
     "output_type": "stream",
     "text": [
      "숫자를 입력하세요 : 4\n",
      "======= 고향의 봄 =======\n",
      "\n",
      "\n",
      "\n",
      "나의 살-던 고향은 꽃피는-산골-\n",
      "\n",
      "복숭아-꽃 살-구꽃 아-기 진-달래-\n",
      "\n"
     ]
    }
   ],
   "source": [
    "x = int(input(\"숫자를 입력하세요 : \"))\n",
    "f = open('고향의 봄.txt','r', encoding = 'UTF-8')\n",
    "\n",
    "lines = f.readlines()\n",
    "\n",
    "for i in range(0,x) : \n",
    "    print(lines[i])\n",
    "\n",
    "f.close()"
   ]
  },
  {
   "cell_type": "markdown",
   "metadata": {},
   "source": [
    "## Practice 4-3"
   ]
  },
  {
   "cell_type": "code",
   "execution_count": 14,
   "metadata": {},
   "outputs": [
    {
     "name": "stdout",
     "output_type": "stream",
     "text": [
      "시작 숫자를 입력하세요 : 3\n",
      "끝 숫자를 입력하세요 : 6\n",
      "나의 살-던 고향은 꽃피는-산골-\n",
      "\n",
      "복숭아-꽃 살-구꽃 아-기 진-달래-\n",
      "\n",
      "울긋불-긋 꽃 대궐 차리인-동네-\n",
      "\n",
      "그 속에서 놀던 때가 그립습니다-\n",
      "\n"
     ]
    }
   ],
   "source": [
    "x = int(input(\"시작 숫자를 입력하세요 : \"))\n",
    "y = int(input(\"끝 숫자를 입력하세요 : \"))\n",
    "f = open('고향의 봄.txt','r', encoding = 'UTF-8')\n",
    "\n",
    "lines = f.readlines()\n",
    "\n",
    "for i in range(x-1,y) : \n",
    "    print(lines[i])\n",
    "\n",
    "f.close()"
   ]
  },
  {
   "cell_type": "markdown",
   "metadata": {},
   "source": [
    "## Practice 4-4"
   ]
  },
  {
   "cell_type": "code",
   "execution_count": 202,
   "metadata": {
    "scrolled": true
   },
   "outputs": [
    {
     "name": "stdout",
     "output_type": "stream",
     "text": [
      "['Kershaw/18/4/2.31', 'Jansen/5/0/1.32', 'Wood/16/3/2.27', 'Hill/12/8/3.32']\n",
      "Kershaw/18/4/2.31\n",
      "Jansen/5/0/1.32\n",
      "Wood/16/3/2.27\n",
      "Hill/12/8/3.32\n",
      "[['Kershaw', 18, 4, 2.31], ['Jansen', 5, 0, 1.32], ['Wood', 16, 3, 2.27], ['Hill', 12, 8, 3.32]]\n"
     ]
    }
   ],
   "source": [
    "with open('pitcher_stats.txt', mode ='r') as f : \n",
    "    \n",
    "    data = f.read().splitlines()\n",
    "    print(data)\n",
    "    \n",
    "    for i in range(len(data)) :\n",
    "    \n",
    "        print(data[i])\n",
    "        \n",
    "        data[i] = data[i].split('/',-1)\n",
    "        data[i][1] = int(data[i][1])\n",
    "        data[i][2] = int(data[i][2])\n",
    "        data[i][3] = float(data[i][3])\n",
    "        \n",
    "    \n",
    "           \n",
    "    print(data)\n",
    "    "
   ]
  },
  {
   "cell_type": "markdown",
   "metadata": {},
   "source": [
    "## Practice 4-5"
   ]
  },
  {
   "cell_type": "code",
   "execution_count": 210,
   "metadata": {
    "scrolled": true
   },
   "outputs": [],
   "source": [
    "with open('zen.txt', mode='r') as f : \n",
    "    \n",
    "    data = f.read().split('. ')\n",
    "    \n",
    "\n",
    "#    with open('zen_of_python.txt', mode='w') as f2 : \n",
    "#        for i in range(len(data)) : \n",
    "#            f2.write(data[i])\n",
    "#            f2.write('.\\n')\n",
    " \n",
    "    data2 = '.\\n'.join(data)\n",
    "    #print('.\\n'.join(data))\n",
    "    f= open('zen_of,_python2.txt','w')\n",
    "    f.write(data2)\n",
    "    \n",
    "    f.close()\n"
   ]
  },
  {
   "cell_type": "markdown",
   "metadata": {},
   "source": [
    "## practice4_함수_예제문제 1"
   ]
  },
  {
   "cell_type": "code",
   "execution_count": 159,
   "metadata": {},
   "outputs": [],
   "source": [
    "test_case = [\n",
    "    {'이름': 'Alice', '출석' : 100, '과제': 70, '시험':60 },\n",
    "    {'이름': 'Bob', '출석' : 80, '과제': 90, '시험':90 },\n",
    "    {'이름': 'Chris', '출석' : 60, '과제': '-', '시험':50 },\n",
    "    {'이름': 'Denis', '출석' : 70, '과제': 100, '시험':100},\n",
    "    {'이름': 'Eddy', '출석' : 30, '과제': '-', '시험':10 },\n",
    "    {'이름': 'Fred', '출석' : 100, '과제': 100, '시험':100 }]\n",
    "\n",
    "\n",
    "\n",
    "def calc_score(student_list) : \n",
    "    return_list = []\n",
    "    for i in range(len(student_list)) :\n",
    "        \n",
    "            \n",
    "        if(student_list[i]['출석']=='-') : \n",
    "            student_list[i]['출석'] = 0 \n",
    "\n",
    "        if(student_list[i]['과제']=='-') : \n",
    "            student_list[i]['과제'] = 0 \n",
    "        \n",
    "        if(student_list[i]['시험']=='-') : \n",
    "            student_list[i]['시험'] = 0 \n",
    "            \n",
    "        name = student_list[i]['이름']\n",
    "        total_s = student_list[i]['출석']*0.1 + student_list[i]['과제']*0.6 + student_list[i]['시험']*0.3\n",
    "        \n",
    "        #튜플로 저장\n",
    "        std_tuple = (name,total_s)\n",
    "        \n",
    "        return_list.append(std_tuple)\n",
    "\n",
    "    print(return_list)\n",
    "       # print(student_list[i]['이름'], student_list[i]['출석']*0.1 + student_list[i]['과제']*0.6 + student_list[i]['시험']*0.3)\n",
    "       \n",
    "        \n",
    "    "
   ]
  },
  {
   "cell_type": "code",
   "execution_count": 160,
   "metadata": {},
   "outputs": [
    {
     "name": "stdout",
     "output_type": "stream",
     "text": [
      "[('Alice', 70.0), ('Bob', 89.0), ('Chris', 21.0), ('Denis', 97.0), ('Eddy', 6.0), ('Fred', 100.0)]\n"
     ]
    }
   ],
   "source": [
    "calc_score(test_case)"
   ]
  },
  {
   "cell_type": "markdown",
   "metadata": {},
   "source": [
    "## practice4_함수_예제문제 2"
   ]
  },
  {
   "cell_type": "code",
   "execution_count": 476,
   "metadata": {},
   "outputs": [],
   "source": [
    "test_case = [ \n",
    "    {'이름' : 'Alice', '최종성적' : 70.0 },\n",
    "    {'이름' : 'Bob', '최종성적' : 89.0 },\n",
    "    {'이름' : 'Chris', '최종성적' : 21.0 },\n",
    "    {'이름' : 'Denis', '최종성적' : 97.0 },\n",
    "    {'이름' : 'Eddy', '최종성적' : 6.0 },\n",
    "    {'이름' : 'Fred', '최종성적' : 100.0 }]\n",
    "\n",
    "def get_top_three(student_list) :\n",
    "    tmp_list = []\n",
    "    \n",
    "    for i in range(len(student_list)) : \n",
    "        tmp_list.append(student_list[i]['최종성적'])\n",
    "        tmp_list.sort(reverse=True)\n",
    "        \n",
    "    return_list = tmp_list[:3]\n",
    "    \n",
    "    return return_list\n",
    "        \n",
    "    \n",
    "\n"
   ]
  },
  {
   "cell_type": "code",
   "execution_count": 477,
   "metadata": {},
   "outputs": [
    {
     "data": {
      "text/plain": [
       "[100.0, 97.0, 89.0]"
      ]
     },
     "execution_count": 477,
     "metadata": {},
     "output_type": "execute_result"
    }
   ],
   "source": [
    "get_top_three(test_case)"
   ]
  },
  {
   "cell_type": "markdown",
   "metadata": {},
   "source": [
    "## practice5_파일처리_예제문제1"
   ]
  },
  {
   "cell_type": "code",
   "execution_count": 284,
   "metadata": {},
   "outputs": [],
   "source": [
    "f = open('sonagi.txt','r', encoding ='UTF-8')\n",
    "lines = f.readlines()\n",
    "#print(lines)\n",
    "#print(type(lines))\n",
    "f.close()\n",
    "\n",
    "\n",
    "def match_words(words, bool) : \n",
    "    line_cnt = 0\n",
    "    word_cnt = 0\n",
    "    #word_sum = 0\n",
    "    if bool == True :\n",
    "        for i in range(len(lines)) : \n",
    "            #print(lines[i])\n",
    "            if words in lines[i] : \n",
    "                line_cnt +=1\n",
    "        return line_cnt\n",
    "        \n",
    "    else : \n",
    "        for i in range(len(lines)) :\n",
    "            word_cnt += lines[i].count(words)\n",
    "            #word_sum += word_cnt\n",
    "        return word_cnt\n",
    "                       \n",
    "    if word_cnt==0 or line_cnt ==0 :\n",
    "                       return 0 \n",
    "                \n",
    "        \n",
    "        \n"
   ]
  },
  {
   "cell_type": "code",
   "execution_count": 285,
   "metadata": {},
   "outputs": [
    {
     "data": {
      "text/plain": [
       "3"
      ]
     },
     "execution_count": 285,
     "metadata": {},
     "output_type": "execute_result"
    }
   ],
   "source": [
    "match_words('하광수',False)"
   ]
  },
  {
   "cell_type": "markdown",
   "metadata": {},
   "source": [
    "## practice5_파일처리_예제문제2"
   ]
  },
  {
   "cell_type": "code",
   "execution_count": 478,
   "metadata": {},
   "outputs": [],
   "source": [
    "f = open('subway.txt', 'r', encoding='UTF-8')\n",
    "lines = f.readlines()\n",
    "#print(lines)\n",
    "f.close()\n",
    "\n",
    "subway_data = []\n",
    "col_data = ['날짜','요일','구분','7','8','9','10','11']\n",
    "\n",
    "\n",
    "\n",
    "for i in range(1,len(lines)) : \n",
    "    \n",
    "    row_data = lines[i].split(',')\n",
    "    subway_data.append(dict(zip(col_data,row_data)))\n",
    "\n",
    "        "
   ]
  },
  {
   "cell_type": "code",
   "execution_count": 479,
   "metadata": {},
   "outputs": [
    {
     "name": "stdout",
     "output_type": "stream",
     "text": [
      "{'날짜': '2', '요일': '일', '구분': '승차', '7': '676', '8': '877', '9': '1225', '10': '1360', '11': '1803\\n'}\n",
      "{'날짜': '2', '요일': '일', '구분': '하차', '7': '875', '8': '1736', '9': '3304', '10': '2808', '11': '3422\\n'}\n",
      "{'날짜': '9', '요일': '일', '구분': '승차', '7': '673', '8': '904', '9': '1191', '10': '1459', '11': '1968\\n'}\n",
      "{'날짜': '9', '요일': '일', '구분': '하차', '7': '902', '8': '1787', '9': '3219', '10': '2986', '11': '3201\\n'}\n",
      "{'날짜': '16', '요일': '일', '구분': '승차', '7': '860', '8': '852', '9': '1225', '10': '1268', '11': '1820\\n'}\n",
      "{'날짜': '16', '요일': '일', '구분': '하차', '7': '1008', '8': '1949', '9': '3221', '10': '3009', '11': '3248\\n'}\n",
      "{'날짜': '23', '요일': '일', '구분': '승차', '7': '629', '8': '949', '9': '1125', '10': '1417', '11': '1852\\n'}\n",
      "{'날짜': '23', '요일': '일', '구분': '하차', '7': '897', '8': '1872', '9': '3184', '10': '2910', '11': '3275\\n'}\n",
      "{'날짜': '30', '요일': '일', '구분': '승차', '7': '667', '8': '865', '9': '1243', '10': '1454', '11': '1910\\n'}\n",
      "{'날짜': '30', '요일': '일', '구분': '하차', '7': '989', '8': '2015', '9': '3205', '10': '2765', '11': '3083\\n'}\n"
     ]
    }
   ],
   "source": [
    "for i in range(len(subway_data)) : \n",
    "    if subway_data[i]['요일'] == '일' : \n",
    "        print(subway_data[i])"
   ]
  },
  {
   "cell_type": "code",
   "execution_count": 390,
   "metadata": {
    "scrolled": true
   },
   "outputs": [
    {
     "name": "stdout",
     "output_type": "stream",
     "text": [
      "10시 : 6,241, 11시: 5,786\n",
      "10시 : 2,808, 11시: 3,422\n",
      "10시 : 2,425, 11시: 3,026\n",
      "10시 : 6,651, 11시: 4,799\n",
      "10시 : 6,687, 11시: 4,934\n",
      "10시 : 6,482, 11시: 4,828\n",
      "10시 : 6,539, 11시: 5,081\n",
      "10시 : 2,452, 11시: 3,552\n",
      "10시 : 6,485, 11시: 5,384\n",
      "10시 : 6,441, 11시: 6,163\n",
      "10시 : 2,986, 11시: 3,201\n",
      "10시 : 6,650, 11시: 4,733\n",
      "10시 : 2,428, 11시: 3,141\n",
      "10시 : 6,176, 11시: 5,240\n",
      "10시 : 2,497, 11시: 3,236\n",
      "10시 : 6,524, 11시: 5,176\n",
      "10시 : 6,494, 11시: 5,210\n",
      "10시 : 6,388, 11시: 5,240\n",
      "10시 : 6,430, 11시: 5,784\n",
      "10시 : 3,009, 11시: 3,248\n",
      "10시 : 6,425, 11시: 4,618\n",
      "10시 : 6,436, 11시: 5,036\n",
      "10시 : 6,594, 11시: 4,743\n",
      "10시 : 6,583, 11시: 4,780\n",
      "10시 : 2,472, 11시: 3,000\n",
      "10시 : 6,778, 11시: 5,225\n",
      "10시 : 6,317, 11시: 5,810\n",
      "10시 : 2,910, 11시: 3,275\n",
      "10시 : 6,501, 11시: 4,873\n",
      "10시 : 6,270, 11시: 5,097\n",
      "10시 : 2,434, 11시: 3,109\n",
      "10시 : 6,218, 11시: 4,921\n",
      "10시 : 2,456, 11시: 3,124\n",
      "10시 : 6,364, 11시: 4,949\n",
      "10시 : 2,514, 11시: 3,231\n",
      "10시 : 7,859, 11시: 5,336\n",
      "10시 : 6,259, 11시: 5,941\n",
      "10시 : 2,765, 11시: 3,083\n"
     ]
    }
   ],
   "source": [
    "for i in range(len(subway_data)) : \n",
    "    if int(subway_data[i]['10']) > 2400 and int(subway_data[i]['11']) > 2400 : \n",
    "        print('10시 : {:,}, 11시: {:,}'.format(int(subway_data[i]['10']),int(subway_data[i]['11'])))"
   ]
  },
  {
   "cell_type": "markdown",
   "metadata": {},
   "source": [
    "## practice5_파일처리 예제문제 3"
   ]
  },
  {
   "cell_type": "code",
   "execution_count": 471,
   "metadata": {
    "scrolled": true
   },
   "outputs": [
    {
     "name": "stdout",
     "output_type": "stream",
     "text": [
      "['sepal length', ' sepal width', ' petal length', ' petal width', ' species\\n']\n",
      "{'sepal length': '5.5', ' sepal width': '3.5', ' petal length': '1.3', ' petal width': '0.2', ' species\\n': 'setosa\\n'}\n",
      "setosa\n",
      "\n"
     ]
    }
   ],
   "source": [
    "f = open('iris.txt','r')\n",
    "lines = f.readlines()\n",
    "f.close()\n",
    "\n",
    "col_data = lines[0].split(',')\n",
    "row_data = []\n",
    "data_set =[]\n",
    "\n",
    "for i in range(1,len(lines)) : \n",
    "    row_data = lines[i].split(',')\n",
    "    data_set.append(dict(zip(col_data,row_data)))\n",
    "    \n",
    "\n",
    "print(col_data)\n",
    "print(data_set[0])\n",
    "print(data_set[0][' species\\n'])\n",
    "\n",
    "def avg_seplen(speices_in) : \n",
    "    n = 0\n",
    "    seplen_sum = 0.0\n",
    "    avg = 0.0\n",
    "    if speices_in == 'setosa': \n",
    "        for i in range(len(data_set)) : \n",
    "            if data_set[i][' species\\n'] == 'setosa\\n' : \n",
    "                seplen_sum += float(data_set[i]['sepal length'])\n",
    "                n += 1\n",
    "                \n",
    "        avg = seplen_sum / n\n",
    "                \n",
    "        return format(avg,'.2f')\n",
    "    \n",
    "    elif speices_in == 'versicolor': \n",
    "        for i in range(len(data_set)) : \n",
    "            if data_set[i][' species\\n'] == 'versicolor\\n' : \n",
    "                seplen_sum += float(data_set[i]['sepal length'])\n",
    "                n += 1\n",
    "                \n",
    "        avg = seplen_sum / n\n",
    "                \n",
    "        return format(avg,'.2f')\n",
    "    \n",
    "    \n",
    "    elif speices_in == 'virginica': \n",
    "        for i in range(len(data_set)) : \n",
    "            if data_set[i][' species\\n'] == 'virginica\\n' : \n",
    "                seplen_sum += float(data_set[i]['sepal length'])\n",
    "                n += 1\n",
    "                \n",
    "        avg = seplen_sum / n\n",
    "                \n",
    "        return format(avg,'.2f')\n",
    "                \n",
    "                \n",
    "    else : \n",
    "        print(\"적절하지 않은 입력이 주어졌습니다.\")\n",
    "        return 0 \n",
    "\n"
   ]
  },
  {
   "cell_type": "code",
   "execution_count": 472,
   "metadata": {},
   "outputs": [
    {
     "data": {
      "text/plain": [
       "'5.01'"
      ]
     },
     "execution_count": 472,
     "metadata": {},
     "output_type": "execute_result"
    }
   ],
   "source": [
    "avg_seplen('setosa')"
   ]
  },
  {
   "cell_type": "code",
   "execution_count": 473,
   "metadata": {},
   "outputs": [
    {
     "data": {
      "text/plain": [
       "'5.94'"
      ]
     },
     "execution_count": 473,
     "metadata": {},
     "output_type": "execute_result"
    }
   ],
   "source": [
    "avg_seplen('versicolor')"
   ]
  },
  {
   "cell_type": "code",
   "execution_count": 474,
   "metadata": {},
   "outputs": [
    {
     "data": {
      "text/plain": [
       "'6.59'"
      ]
     },
     "execution_count": 474,
     "metadata": {},
     "output_type": "execute_result"
    }
   ],
   "source": [
    "avg_seplen('virginica')"
   ]
  },
  {
   "cell_type": "code",
   "execution_count": 475,
   "metadata": {},
   "outputs": [
    {
     "name": "stdout",
     "output_type": "stream",
     "text": [
      "적절하지 않은 입력이 주어졌습니다.\n"
     ]
    },
    {
     "data": {
      "text/plain": [
       "0"
      ]
     },
     "execution_count": 475,
     "metadata": {},
     "output_type": "execute_result"
    }
   ],
   "source": [
    "avg_seplen('dasd')"
   ]
  },
  {
   "cell_type": "markdown",
   "metadata": {},
   "source": [
    "# 모듈과 패키지"
   ]
  },
  {
   "cell_type": "markdown",
   "metadata": {},
   "source": [
    "## practice 5-1"
   ]
  },
  {
   "cell_type": "code",
   "execution_count": 494,
   "metadata": {},
   "outputs": [],
   "source": [
    "class FourCal : \n",
    "    def setdata(self, first, second) : \n",
    "        self.first = first\n",
    "        self.second = second\n",
    "        \n",
    "    def sum(self) : \n",
    "        result = self.first + self.second\n",
    "        return result\n",
    "    \n",
    "    def mul(self) : \n",
    "        result = self.first*self.second\n",
    "        return result\n",
    "    \n",
    "    def sub(self) : \n",
    "        result = self.first-self.second\n",
    "        return result\n",
    "    \n",
    "    def div(self) : \n",
    "        result = self.first/self.second\n",
    "        return result\n",
    "        \n",
    "    "
   ]
  },
  {
   "cell_type": "code",
   "execution_count": 499,
   "metadata": {},
   "outputs": [],
   "source": [
    "a = FourCal()"
   ]
  },
  {
   "cell_type": "code",
   "execution_count": 500,
   "metadata": {},
   "outputs": [],
   "source": [
    "b = FourCal()"
   ]
  },
  {
   "cell_type": "code",
   "execution_count": 501,
   "metadata": {},
   "outputs": [],
   "source": [
    "a.setdata(4,2)"
   ]
  },
  {
   "cell_type": "code",
   "execution_count": 502,
   "metadata": {},
   "outputs": [],
   "source": [
    "b.setdata(3,7)"
   ]
  },
  {
   "cell_type": "code",
   "execution_count": 503,
   "metadata": {},
   "outputs": [
    {
     "data": {
      "text/plain": [
       "6"
      ]
     },
     "execution_count": 503,
     "metadata": {},
     "output_type": "execute_result"
    }
   ],
   "source": [
    "a.sum()"
   ]
  },
  {
   "cell_type": "code",
   "execution_count": 504,
   "metadata": {},
   "outputs": [
    {
     "data": {
      "text/plain": [
       "2.0"
      ]
     },
     "execution_count": 504,
     "metadata": {},
     "output_type": "execute_result"
    }
   ],
   "source": [
    "a.div()"
   ]
  },
  {
   "cell_type": "code",
   "execution_count": 505,
   "metadata": {},
   "outputs": [
    {
     "data": {
      "text/plain": [
       "21"
      ]
     },
     "execution_count": 505,
     "metadata": {},
     "output_type": "execute_result"
    }
   ],
   "source": [
    "b.mul()"
   ]
  },
  {
   "cell_type": "code",
   "execution_count": 506,
   "metadata": {},
   "outputs": [
    {
     "data": {
      "text/plain": [
       "-4"
      ]
     },
     "execution_count": 506,
     "metadata": {},
     "output_type": "execute_result"
    }
   ],
   "source": [
    "b.sub()"
   ]
  },
  {
   "cell_type": "markdown",
   "metadata": {},
   "source": [
    "## Practice 6-1"
   ]
  },
  {
   "cell_type": "code",
   "execution_count": 519,
   "metadata": {},
   "outputs": [],
   "source": [
    "class staff :\n",
    "    \n",
    "    # init 함수가 여러개 있을 경우 호출받을 시의 매개변수의 개수에 맞는 함수로 실행\n",
    "    def __init__(self) : \n",
    "    def __init__(self,bonus,aaaaa)\n",
    "    \n",
    "    def __init__(self,bonus) : \n",
    "        \n",
    "        self.bonus = bonus      \n",
    "    \n",
    "    def salary(self) : \n",
    "        total = self.bonus + 100000\n",
    "        return total"
   ]
  },
  {
   "cell_type": "code",
   "execution_count": 520,
   "metadata": {},
   "outputs": [
    {
     "data": {
      "text/plain": [
       "150000"
      ]
     },
     "execution_count": 520,
     "metadata": {},
     "output_type": "execute_result"
    }
   ],
   "source": [
    "kim = staff(50000)\n",
    "kim.salary()"
   ]
  },
  {
   "cell_type": "code",
   "execution_count": 521,
   "metadata": {},
   "outputs": [
    {
     "data": {
      "text/plain": [
       "130000"
      ]
     },
     "execution_count": 521,
     "metadata": {},
     "output_type": "execute_result"
    }
   ],
   "source": [
    "lee = staff(30000)\n",
    "lee.salary()"
   ]
  },
  {
   "cell_type": "markdown",
   "metadata": {},
   "source": [
    "## Practice 5-1"
   ]
  },
  {
   "cell_type": "code",
   "execution_count": 599,
   "metadata": {},
   "outputs": [
    {
     "name": "stdout",
     "output_type": "stream",
     "text": [
      "dict_keys([1, 7, 4, 2, 5, 9, 11, 3, 'a', 'x', 8, 'b'])\n",
      "1\n",
      "7\n",
      "4\n",
      "b\n"
     ]
    }
   ],
   "source": [
    "from collections import Counter\n",
    "\n",
    "L = [1,1,7,7,7,4,4,4,2,1,5,5,9,11,3,'a','x',9,8,'b','b','a','b']\n",
    "\n",
    "counts= Counter(L)\n",
    "\n",
    "print(counts.keys())\n",
    "\n",
    "for i in counts.keys() : \n",
    "    if counts[i] >= 3 : \n",
    "        print(i)\n",
    "\n",
    "\n",
    "#for i in range(len(counts)):\n",
    "#    if counts[i] >= 3 :\n",
    "#        print(counts)\n",
    "         \n"
   ]
  },
  {
   "cell_type": "markdown",
   "metadata": {},
   "source": [
    "## Practice 5-2"
   ]
  },
  {
   "cell_type": "code",
   "execution_count": 597,
   "metadata": {},
   "outputs": [
    {
     "name": "stdout",
     "output_type": "stream",
     "text": [
      "300\n"
     ]
    }
   ],
   "source": [
    "import itertools\n",
    "\n",
    "chr1 = ['A','E','I','O','U']\n",
    "chr2 = ['a','A','b','B','c','C','d','D','e','E']\n",
    "chr3 = [2,3]\n",
    "chr4 = [1,3,5]\n",
    "\n",
    "\n",
    "tt=0\n",
    "for i in itertools.product(chr1,chr2,chr3,chr4) : \n",
    "    tt += 1\n",
    "print(tt)\n",
    "    \n"
   ]
  },
  {
   "cell_type": "markdown",
   "metadata": {},
   "source": [
    "## Class 연습"
   ]
  },
  {
   "cell_type": "code",
   "execution_count": null,
   "metadata": {},
   "outputs": [],
   "source": [
    "개와 고양이"
   ]
  },
  {
   "cell_type": "markdown",
   "metadata": {},
   "source": [
    "## practice6_모듈패키지클래스_예제문제1"
   ]
  },
  {
   "cell_type": "code",
   "execution_count": 732,
   "metadata": {},
   "outputs": [],
   "source": [
    "from random import randint\n",
    "\n",
    "class SimpleRPG : \n",
    "    \n",
    "    def __init__ (self, given_id, given_job) : \n",
    "        self.given_id = given_id\n",
    "        self.given_job = given_job\n",
    "        self.level = 1\n",
    "        self.exp = 0\n",
    "        \n",
    "    def __str__(self) : \n",
    "        return '{} 의 직업은 {} 입니다'.format(self.given_id, self.given_job)\n",
    "        \n",
    "    def train(self) : \n",
    "        self.exp += randint(1,20)\n",
    "        print('현재 경험치 : ', self.exp)\n",
    "        if self.exp >= 100 : \n",
    "            self.level +=1\n",
    "            print('현재 레벨 : ',self.level)\n",
    "            print('레벨업!')\n",
    "            self.exp = 0\n",
    "        \n",
    "        "
   ]
  },
  {
   "cell_type": "code",
   "execution_count": 733,
   "metadata": {},
   "outputs": [
    {
     "name": "stdout",
     "output_type": "stream",
     "text": [
      "현재 경험치 :  5\n",
      "Sue 의 직업은 전사 입니다\n"
     ]
    }
   ],
   "source": [
    "test_player1 = SimpleRPG('Sue','전사')\n",
    "test_player1.train()\n",
    "print(test_player1)"
   ]
  },
  {
   "cell_type": "code",
   "execution_count": 734,
   "metadata": {},
   "outputs": [
    {
     "name": "stdout",
     "output_type": "stream",
     "text": [
      "현재 경험치 :  6\n"
     ]
    }
   ],
   "source": [
    "test_player1.train()"
   ]
  },
  {
   "cell_type": "code",
   "execution_count": 735,
   "metadata": {},
   "outputs": [
    {
     "name": "stdout",
     "output_type": "stream",
     "text": [
      "현재 경험치 :  7\n",
      "현재 경험치 :  13\n",
      "현재 경험치 :  19\n",
      "현재 경험치 :  21\n",
      "현재 경험치 :  24\n",
      "현재 경험치 :  25\n",
      "현재 경험치 :  26\n",
      "현재 경험치 :  35\n",
      "현재 경험치 :  36\n",
      "현재 경험치 :  54\n",
      "현재 경험치 :  63\n",
      "현재 경험치 :  64\n",
      "현재 경험치 :  77\n",
      "현재 경험치 :  87\n",
      "현재 경험치 :  98\n"
     ]
    }
   ],
   "source": [
    "test_player2 = SimpleRPG('Hee','마법사')\n",
    "for i in range(15) : \n",
    "    test_player2.train()"
   ]
  },
  {
   "cell_type": "code",
   "execution_count": 736,
   "metadata": {},
   "outputs": [
    {
     "name": "stdout",
     "output_type": "stream",
     "text": [
      "Hee 의 직업은 마법사 입니다\n"
     ]
    }
   ],
   "source": [
    "print(test_player2)"
   ]
  },
  {
   "cell_type": "code",
   "execution_count": null,
   "metadata": {},
   "outputs": [],
   "source": []
  }
 ],
 "metadata": {
  "kernelspec": {
   "display_name": "Python 3",
   "language": "python",
   "name": "python3"
  },
  "language_info": {
   "codemirror_mode": {
    "name": "ipython",
    "version": 3
   },
   "file_extension": ".py",
   "mimetype": "text/x-python",
   "name": "python",
   "nbconvert_exporter": "python",
   "pygments_lexer": "ipython3",
   "version": "3.7.1"
  }
 },
 "nbformat": 4,
 "nbformat_minor": 2
}
