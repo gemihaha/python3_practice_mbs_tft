{
 "cells": [
  {
   "cell_type": "markdown",
   "metadata": {
    "colab_type": "text",
    "id": "8ttl3UezFJzJ"
   },
   "source": [
    "### 수학통계적 방법으로 선형회귀(linear regression) 풀기\n",
    "\n",
    "##### Linear Regression  (월수익과 카드사용액의 관계)\n",
    "#### X(월수익), Y(카드사용액) 관계를 일차함수로 표현(모델링)하기. \n",
    "* 일차함수의 기울기는  (X,Y의 공분산) / (X의 분산)으로 구할 수 있다."
   ]
  },
  {
   "cell_type": "code",
   "execution_count": 1,
   "metadata": {
    "colab": {},
    "colab_type": "code",
    "id": "ypmyqPO7FJzK"
   },
   "outputs": [],
   "source": [
    "import math\n",
    "import matplotlib.pyplot as plt\n",
    "\n",
    "income = [100,200,300,400,500] # 월수익\n",
    "card = [30, 57, 76, 140, 197] # 카드사용금액"
   ]
  },
  {
   "cell_type": "code",
   "execution_count": 2,
   "metadata": {
    "colab": {
     "base_uri": "https://localhost:8080/",
     "height": 104
    },
    "colab_type": "code",
    "executionInfo": {
     "elapsed": 1093,
     "status": "ok",
     "timestamp": 1552555968175,
     "user": {
      "displayName": "한대희",
      "photoUrl": "",
      "userId": "17475105266749362233"
     },
     "user_tz": -540
    },
    "id": "oFURLSw3FJzN",
    "outputId": "fe6a9703-48ba-42ac-c201-653c8bc5ed56"
   },
   "outputs": [
    {
     "name": "stdout",
     "output_type": "stream",
     "text": [
      "100 30\n",
      "200 57\n",
      "300 76\n",
      "400 140\n",
      "500 197\n"
     ]
    }
   ],
   "source": [
    "for x, y in zip(income, card):\n",
    "  print(x, y)"
   ]
  },
  {
   "cell_type": "code",
   "execution_count": 5,
   "metadata": {
    "colab": {
     "base_uri": "https://localhost:8080/",
     "height": 361
    },
    "colab_type": "code",
    "executionInfo": {
     "elapsed": 919,
     "status": "ok",
     "timestamp": 1552555968176,
     "user": {
      "displayName": "한대희",
      "photoUrl": "",
      "userId": "17475105266749362233"
     },
     "user_tz": -540
    },
    "id": "HHuWhxNqFJzS",
    "outputId": "b72abd11-9769-47ac-c2dd-de47d3bcefe4"
   },
   "outputs": [
    {
     "data": {
      "image/png": "[encoded data removed]",
      "text/plain": [
       "<Figure size 432x288 with 1 Axes>"
      ]
     },
     "metadata": {
      "needs_background": "light"
     },
     "output_type": "display_data"
    }
   ],
   "source": [
    "plt.figure()\n",
    "plt.plot(income, card)\n",
    "plt.scatter(income, card)\n",
    "\n",
    "plt.xlabel('Income')\n",
    "plt.ylabel('Card')\n",
    "plt.show()"
   ]
  },
  {
   "cell_type": "markdown",
   "metadata": {
    "colab_type": "text",
    "id": "LlWPb14AFJzV"
   },
   "source": [
    "### 평균 (mean) 구하기"
   ]
  },
  {
   "cell_type": "code",
   "execution_count": 6,
   "metadata": {
    "colab": {
     "base_uri": "https://localhost:8080/",
     "height": 35
    },
    "colab_type": "code",
    "executionInfo": {
     "elapsed": 994,
     "status": "ok",
     "timestamp": 1552555968615,
     "user": {
      "displayName": "한대희",
      "photoUrl": "",
      "userId": "17475105266749362233"
     },
     "user_tz": -540
    },
    "id": "dXNLhsmHFJzW",
    "outputId": "ae91278c-dcae-44b3-a22a-9e0eb31a62a5"
   },
   "outputs": [
    {
     "name": "stdout",
     "output_type": "stream",
     "text": [
      "MEAN 300.0 100.0\n"
     ]
    }
   ],
   "source": [
    "mean_income = sum(income) / len(income)\n",
    "mean_card = sum(card) / len(card)\n",
    "print('MEAN', mean_income, mean_card)\n"
   ]
  },
  {
   "cell_type": "code",
   "execution_count": 7,
   "metadata": {},
   "outputs": [
    {
     "data": {
      "text/plain": [
       "300.0"
      ]
     },
     "execution_count": 7,
     "metadata": {},
     "output_type": "execute_result"
    }
   ],
   "source": [
    "import numpy as np\n",
    "np.mean(income)"
   ]
  },
  {
   "cell_type": "code",
   "execution_count": 8,
   "metadata": {},
   "outputs": [
    {
     "data": {
      "text/plain": [
       "100.0"
      ]
     },
     "execution_count": 8,
     "metadata": {},
     "output_type": "execute_result"
    }
   ],
   "source": [
    "np.mean(card)"
   ]
  },
  {
   "cell_type": "markdown",
   "metadata": {
    "colab_type": "text",
    "id": "SZEsSSq_FJzZ"
   },
   "source": [
    "### 분산값 구하기"
   ]
  },
  {
   "cell_type": "code",
   "execution_count": 31,
   "metadata": {
    "colab": {
     "base_uri": "https://localhost:8080/",
     "height": 35
    },
    "colab_type": "code",
    "executionInfo": {
     "elapsed": 1218,
     "status": "ok",
     "timestamp": 1552555970089,
     "user": {
      "displayName": "한대희",
      "photoUrl": "",
      "userId": "17475105266749362233"
     },
     "user_tz": -540
    },
    "id": "0fQ9pmA4FJza",
    "outputId": "f691125d-cbd0-4e55-95a2-2da9afa3f8c9"
   },
   "outputs": [
    {
     "name": "stdout",
     "output_type": "stream",
     "text": [
      "VAR 25000.0\n"
     ]
    }
   ],
   "source": [
    "vars = [(x-mean_income)*(x - mean_income) for x in income]\n",
    "variance_income = sum(vars) / (len(vars)-1)\n",
    "print('VAR', variance_income)"
   ]
  },
  {
   "cell_type": "code",
   "execution_count": 14,
   "metadata": {
    "scrolled": true
   },
   "outputs": [
    {
     "data": {
      "text/plain": [
       "20000.0"
      ]
     },
     "execution_count": 14,
     "metadata": {},
     "output_type": "execute_result"
    }
   ],
   "source": [
    "np.var(income)"
   ]
  },
  {
   "cell_type": "code",
   "execution_count": 15,
   "metadata": {},
   "outputs": [
    {
     "data": {
      "text/plain": [
       "3666.8"
      ]
     },
     "execution_count": 15,
     "metadata": {},
     "output_type": "execute_result"
    }
   ],
   "source": [
    "np.var(card)"
   ]
  },
  {
   "cell_type": "markdown",
   "metadata": {
    "colab_type": "text",
    "id": "ZeZ3-0PWFJzc"
   },
   "source": [
    "### 공분산(covariance)구하기"
   ]
  },
  {
   "cell_type": "code",
   "execution_count": 32,
   "metadata": {
    "colab": {
     "base_uri": "https://localhost:8080/",
     "height": 35
    },
    "colab_type": "code",
    "executionInfo": {
     "elapsed": 710,
     "status": "ok",
     "timestamp": 1552555970490,
     "user": {
      "displayName": "한대희",
      "photoUrl": "",
      "userId": "17475105266749362233"
     },
     "user_tz": -540
    },
    "id": "vNtkaiRlFJzd",
    "outputId": "faf13b99-8c38-42ff-c03d-3c2ac05b321a"
   },
   "outputs": [
    {
     "name": "stdout",
     "output_type": "stream",
     "text": [
      "COV 10425.0\n"
     ]
    }
   ],
   "source": [
    "covars = [ (x-mean_income) * (y - mean_card) for x, y in zip(income, card)]\n",
    "covariance = sum(covars) /  (len(covars)-1)\n",
    "print('COV', covariance)"
   ]
  },
  {
   "cell_type": "code",
   "execution_count": 33,
   "metadata": {
    "scrolled": true
   },
   "outputs": [
    {
     "data": {
      "text/plain": [
       "array([[25000. , 10425. ],\n",
       "       [10425. ,  4583.5]])"
      ]
     },
     "execution_count": 33,
     "metadata": {},
     "output_type": "execute_result"
    }
   ],
   "source": [
    "np.cov(income, card)"
   ]
  },
  {
   "cell_type": "markdown",
   "metadata": {
    "colab_type": "text",
    "id": "ebWAVqwZFJzg"
   },
   "source": [
    "### 통계적 방법으로 기울기(W), y절편(B)구하기"
   ]
  },
  {
   "cell_type": "code",
   "execution_count": 34,
   "metadata": {
    "colab": {
     "base_uri": "https://localhost:8080/",
     "height": 35
    },
    "colab_type": "code",
    "executionInfo": {
     "elapsed": 980,
     "status": "ok",
     "timestamp": 1552555971822,
     "user": {
      "displayName": "한대희",
      "photoUrl": "",
      "userId": "17475105266749362233"
     },
     "user_tz": -540
    },
    "id": "aR3jshzZFJzi",
    "outputId": "84667e15-5068-4f27-957f-31d531222ce5"
   },
   "outputs": [
    {
     "name": "stdout",
     "output_type": "stream",
     "text": [
      "W 0.417\n"
     ]
    }
   ],
   "source": [
    "# W = (X,Y의 covariance) / (X의 분산)\n",
    "W = float(covariance / variance_income)\n",
    "print('W', W)\n"
   ]
  },
  {
   "cell_type": "code",
   "execution_count": 35,
   "metadata": {
    "colab": {
     "base_uri": "https://localhost:8080/",
     "height": 35
    },
    "colab_type": "code",
    "executionInfo": {
     "elapsed": 1063,
     "status": "ok",
     "timestamp": 1552555972384,
     "user": {
      "displayName": "한대희",
      "photoUrl": "",
      "userId": "17475105266749362233"
     },
     "user_tz": -540
    },
    "id": "ItUezlzSFJzm",
    "outputId": "a7115c92-a5c0-446d-851b-d033072f03ef"
   },
   "outputs": [
    {
     "name": "stdout",
     "output_type": "stream",
     "text": [
      "B =  -25.099999999999994\n"
     ]
    }
   ],
   "source": [
    "# y = B + W * X\n",
    "# B = Y - W * X\n",
    "B = mean_card - W * mean_income\n",
    "print('B = ', B)"
   ]
  },
  {
   "cell_type": "markdown",
   "metadata": {
    "colab_type": "text",
    "id": "xOE3FK6dFJzp"
   },
   "source": [
    "### 통계적 방법으로 도출한 모델로 카드사용량 예측하기"
   ]
  },
  {
   "cell_type": "code",
   "execution_count": 36,
   "metadata": {
    "colab": {
     "base_uri": "https://localhost:8080/",
     "height": 52
    },
    "colab_type": "code",
    "executionInfo": {
     "elapsed": 930,
     "status": "ok",
     "timestamp": 1552555973194,
     "user": {
      "displayName": "한대희",
      "photoUrl": "",
      "userId": "17475105266749362233"
     },
     "user_tz": -540
    },
    "id": "pHSdYURXFJzp",
    "outputId": "e9608da4-98b3-4ddf-c414-0587fd8f9736"
   },
   "outputs": [
    {
     "name": "stdout",
     "output_type": "stream",
     "text": [
      "원데이터 출력값 :  [30, 57, 76, 140, 197]\n",
      "모델의 출력값 :    [16.6, 58.3, 100.0, 141.7, 183.4]\n"
     ]
    },
    {
     "data": {
      "text/plain": [
       "list"
      ]
     },
     "execution_count": 36,
     "metadata": {},
     "output_type": "execute_result"
    }
   ],
   "source": [
    "card_from_model = [B + W * x for x in income] \n",
    "print('원데이터 출력값 : ', card)\n",
    "print('모델의 출력값 :   ', card_from_model)\n",
    "type(card_from_model)"
   ]
  },
  {
   "cell_type": "code",
   "execution_count": 37,
   "metadata": {
    "colab": {
     "base_uri": "https://localhost:8080/",
     "height": 104
    },
    "colab_type": "code",
    "executionInfo": {
     "elapsed": 2339,
     "status": "ok",
     "timestamp": 1552555975053,
     "user": {
      "displayName": "한대희",
      "photoUrl": "",
      "userId": "17475105266749362233"
     },
     "user_tz": -540
    },
    "id": "YBTTtwLFFJzs",
    "outputId": "5324dff4-ba58-43c6-922a-b18de4e6f1b0"
   },
   "outputs": [
    {
     "name": "stdout",
     "output_type": "stream",
     "text": [
      "30 16.6\n",
      "57 58.3\n",
      "76 100.0\n",
      "140 141.7\n",
      "197 183.4\n"
     ]
    }
   ],
   "source": [
    "for y1, y2 in zip(card, card_from_model):\n",
    "    print(y1, y2)"
   ]
  },
  {
   "cell_type": "code",
   "execution_count": 38,
   "metadata": {
    "colab": {
     "base_uri": "https://localhost:8080/",
     "height": 361
    },
    "colab_type": "code",
    "executionInfo": {
     "elapsed": 2271,
     "status": "ok",
     "timestamp": 1552555975814,
     "user": {
      "displayName": "한대희",
      "photoUrl": "",
      "userId": "17475105266749362233"
     },
     "user_tz": -540
    },
    "id": "rN_nEzH6FJzz",
    "outputId": "5d0c5b3b-599e-46d3-891d-1de3ff9b57ec"
   },
   "outputs": [
    {
     "data": {
      "image/png": "[encoded data removed]",
      "text/plain": [
       "<Figure size 432x288 with 1 Axes>"
      ]
     },
     "metadata": {
      "needs_background": "light"
     },
     "output_type": "display_data"
    }
   ],
   "source": [
    "plt.figure()\n",
    "plt.plot(income, card, label='Real')\n",
    "plt.plot(income, card_from_model, label='Model')\n",
    "plt.scatter(income, card, c='blue')\n",
    "plt.scatter(income, card_from_model, c='red')\n",
    "plt.xlabel('Income')\n",
    "plt.ylabel('Card')\n",
    "plt.legend()\n",
    "plt.show()"
   ]
  },
  {
   "cell_type": "code",
   "execution_count": 39,
   "metadata": {
    "colab": {},
    "colab_type": "code",
    "id": "GJ-tgPzEFJz1"
   },
   "outputs": [],
   "source": [
    "from sklearn.linear_model import LinearRegression\n",
    "from sklearn.metrics import mean_squared_error, r2_score\n",
    "import numpy as np\n",
    "\n",
    "def rmse(arr1, arr2):\n",
    "    return np.sqrt(np.mean((arr1-arr2)**2))     # 편차 제곱의 평균의 \n",
    "\n",
    "def linear_reg(X, Y, name=''):  \n",
    "  X = X.reshape(-1, 1)\n",
    "  model = LinearRegression()\n",
    "  model.fit(X, Y)\n",
    "  # model.coef_ -- 기울기\n",
    "  # model.intercept_ -- Y절편(bias)\n",
    "  print('Model Parameters:', model.coef_, model.intercept_)\n",
    "  Y2 = model.predict(X)\n",
    "  rmse_v = rmse(Y, Y2)\n",
    "  print(\"Mean squared error: %.2f\" % mean_squared_error(Y, Y2))\n",
    "  print(\"RMSE of %s: %.2f\" % (name, rmse_v))\n",
    "  print('R^2 (coefficient of determination): %.2f' % r2_score(Y, Y2))"
   ]
  },
  {
   "cell_type": "code",
   "execution_count": 40,
   "metadata": {},
   "outputs": [
    {
     "name": "stdout",
     "output_type": "stream",
     "text": [
      "[100 200 300 400 500]\n",
      "\n",
      "[[100]\n",
      " [200]\n",
      " [300]\n",
      " [400]\n",
      " [500]]\n",
      "\n",
      "[[100 200 300 400 500]]\n",
      "\n",
      "[100 200 300 400 500]\n"
     ]
    }
   ],
   "source": [
    "a = np.array(income)\n",
    "print(a)\n",
    "print()\n",
    "\n",
    "a2= a.reshape(-1,1)\n",
    "print(a2)\n",
    "print()\n",
    "\n",
    "a3 = a.reshape(-1,5)\n",
    "print(a3)\n",
    "print()\n",
    "\n",
    "a4 = a3.flatten()\n",
    "print(a4)\n",
    "\n"
   ]
  },
  {
   "cell_type": "code",
   "execution_count": 41,
   "metadata": {
    "colab": {
     "base_uri": "https://localhost:8080/",
     "height": 86
    },
    "colab_type": "code",
    "executionInfo": {
     "elapsed": 1503,
     "status": "ok",
     "timestamp": 1552555976336,
     "user": {
      "displayName": "한대희",
      "photoUrl": "",
      "userId": "17475105266749362233"
     },
     "user_tz": -540
    },
    "id": "7tAKRsMeFJz4",
    "outputId": "9761ec15-0f4e-490d-878b-3a74b668d3d4"
   },
   "outputs": [
    {
     "name": "stdout",
     "output_type": "stream",
     "text": [
      "Model Parameters: [0.417] -25.100000000000065\n",
      "Mean squared error: 189.02\n",
      "RMSE of my_model: 13.75\n",
      "R^2 (coefficient of determination): 0.95\n"
     ]
    }
   ],
   "source": [
    "linear_reg(np.array(income), np.array(card), 'my_model')"
   ]
  },
  {
   "cell_type": "code",
   "execution_count": 42,
   "metadata": {
    "colab": {
     "base_uri": "https://localhost:8080/",
     "height": 365
    },
    "colab_type": "code",
    "executionInfo": {
     "elapsed": 1173,
     "status": "ok",
     "timestamp": 1552556770373,
     "user": {
      "displayName": "한대희",
      "photoUrl": "",
      "userId": "17475105266749362233"
     },
     "user_tz": -540
    },
    "id": "qmCAL3q2i-Ez",
    "outputId": "fb57ab88-7efa-4643-c0b7-296c6c4240a0",
    "scrolled": true
   },
   "outputs": [
    {
     "name": "stderr",
     "output_type": "stream",
     "text": [
      "/anaconda3/lib/python3.7/site-packages/scipy/stats/stats.py:1713: FutureWarning: Using a non-tuple sequence for multidimensional indexing is deprecated; use `arr[tuple(seq)]` instead of `arr[seq]`. In the future this will be interpreted as an array index, `arr[np.array(seq)]`, which will result either in an error or a different result.\n",
      "  return np.add.reduce(sorted[indexer] * weights, axis=axis) / sumval\n"
     ]
    },
    {
     "data": {
      "text/plain": [
       "<matplotlib.axes._subplots.AxesSubplot at 0x1a1edcb400>"
      ]
     },
     "execution_count": 42,
     "metadata": {},
     "output_type": "execute_result"
    },
    {
     "data": {
      "image/png": "[encoded data removed]",
      "text/plain": [
       "<Figure size 432x288 with 1 Axes>"
      ]
     },
     "metadata": {
      "needs_background": "light"
     },
     "output_type": "display_data"
    }
   ],
   "source": [
    "import seaborn as sns\n",
    "sns.regplot(np.array(income), np.array(card))"
   ]
  },
  {
   "cell_type": "code",
   "execution_count": null,
   "metadata": {
    "colab": {},
    "colab_type": "code",
    "id": "29nM88Bxl9Lr"
   },
   "outputs": [],
   "source": []
  }
 ],
 "metadata": {
  "accelerator": "GPU",
  "colab": {
   "collapsed_sections": [],
   "name": "regression1_math_scikit.ipynb",
   "provenance": [],
   "version": "0.3.2"
  },
  "kernelspec": {
   "display_name": "Python 3",
   "language": "python",
   "name": "python3"
  },
  "language_info": {
   "codemirror_mode": {
    "name": "ipython",
    "version": 3
   },
   "file_extension": ".py",
   "mimetype": "text/x-python",
   "name": "python",
   "nbconvert_exporter": "python",
   "pygments_lexer": "ipython3",
   "version": "3.7.1"
  }
 },
 "nbformat": 4,
 "nbformat_minor": 1
}
