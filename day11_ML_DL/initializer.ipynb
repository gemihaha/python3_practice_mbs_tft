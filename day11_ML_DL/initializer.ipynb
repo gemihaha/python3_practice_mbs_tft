{
  "nbformat": 4,
  "nbformat_minor": 0,
  "metadata": {
    "colab": {
      "name": "initializer",
      "version": "0.3.2",
      "provenance": [],
      "collapsed_sections": []
    },
    "kernelspec": {
      "name": "python3",
      "display_name": "Python 3"
    }
  },
  "cells": [
    {
      "metadata": {
        "id": "0Dhtbk1ZpgPi",
        "colab_type": "code",
        "colab": {}
      },
      "cell_type": "code",
      "source": [
        "import tensorflow as tf \n",
        "import numpy as np\n",
        "import matplotlib.pyplot as plt\n",
        "import scipy as sp\n",
        "from scipy.stats import uniform "
      ],
      "execution_count": 0,
      "outputs": []
    },
    {
      "metadata": {
        "id": "HdcMiBws0xH4",
        "colab_type": "code",
        "outputId": "573f9f55-dd18-4d1e-f497-461af7af6bb4",
        "colab": {
          "base_uri": "https://localhost:8080/",
          "height": 552
        }
      },
      "cell_type": "code",
      "source": [
        "# Sigmoid Basic initializer std = 1 \n",
        "\n",
        "np.random.seed(0)\n",
        "\n",
        "X = np.random.randn(100).astype(np.float64)\n",
        "fan_in = X.shape[0]\n",
        "fan_out = 100\n",
        "std = 1\n",
        "\n",
        "W = np.random.randn(fan_in, fan_out) * std\n",
        "H = np.dot(X, W)\n",
        "H = 1 / (1+ np.exp(-H))\n",
        "\n",
        "plt.hist(H.ravel(), 30, range=(0, 1))"
      ],
      "execution_count": 0,
      "outputs": [
        {
          "output_type": "execute_result",
          "data": {
            "text/plain": [
              "(array([42.,  2.,  2.,  2.,  0.,  1.,  0.,  0.,  0.,  0.,  0.,  2.,  0.,\n",
              "         0.,  0.,  0.,  1.,  0.,  0.,  0.,  1.,  0.,  0.,  3.,  2.,  0.,\n",
              "         2.,  1.,  1., 38.]),\n",
              " array([0.        , 0.03333333, 0.06666667, 0.1       , 0.13333333,\n",
              "        0.16666667, 0.2       , 0.23333333, 0.26666667, 0.3       ,\n",
              "        0.33333333, 0.36666667, 0.4       , 0.43333333, 0.46666667,\n",
              "        0.5       , 0.53333333, 0.56666667, 0.6       , 0.63333333,\n",
              "        0.66666667, 0.7       , 0.73333333, 0.76666667, 0.8       ,\n",
              "        0.83333333, 0.86666667, 0.9       , 0.93333333, 0.96666667,\n",
              "        1.        ]),\n",
              " <a list of 30 Patch objects>)"
            ]
          },
          "metadata": {
            "tags": []
          },
          "execution_count": 4
        },
        {
          "output_type": "display_data",
          "data": {
            "image/png": "[encoded data removed]",
            "text/plain": [
              "<Figure size 576x396 with 1 Axes>"
            ]
          },
          "metadata": {
            "tags": []
          }
        }
      ]
    },
    {
      "metadata": {
        "id": "1YxX4Fhc5zHT",
        "colab_type": "code",
        "outputId": "662a78d3-3fd2-4792-9e11-e62aaa867f66",
        "colab": {
          "base_uri": "https://localhost:8080/",
          "height": 552
        }
      },
      "cell_type": "code",
      "source": [
        "# Sigmoid initializer std = 0.01\n",
        "\n",
        "np.random.seed(0)\n",
        "\n",
        "X = np.random.randn(100).astype(np.float64)\n",
        "fan_in = X.shape[0]\n",
        "fan_out = 100\n",
        "std = 0.01\n",
        "\n",
        "W = np.random.randn(fan_in, fan_out) * std\n",
        "H = np.dot(X, W)\n",
        "H = 1 / (1+ np.exp(-H))\n",
        "\n",
        "plt.hist(H.ravel(), 30, range=(0, 1))"
      ],
      "execution_count": 0,
      "outputs": [
        {
          "output_type": "execute_result",
          "data": {
            "text/plain": [
              "(array([ 0.,  0.,  0.,  0.,  0.,  0.,  0.,  0.,  0.,  0.,  0.,  0.,  0.,\n",
              "         8., 43., 42.,  7.,  0.,  0.,  0.,  0.,  0.,  0.,  0.,  0.,  0.,\n",
              "         0.,  0.,  0.,  0.]),\n",
              " array([0.        , 0.03333333, 0.06666667, 0.1       , 0.13333333,\n",
              "        0.16666667, 0.2       , 0.23333333, 0.26666667, 0.3       ,\n",
              "        0.33333333, 0.36666667, 0.4       , 0.43333333, 0.46666667,\n",
              "        0.5       , 0.53333333, 0.56666667, 0.6       , 0.63333333,\n",
              "        0.66666667, 0.7       , 0.73333333, 0.76666667, 0.8       ,\n",
              "        0.83333333, 0.86666667, 0.9       , 0.93333333, 0.96666667,\n",
              "        1.        ]),\n",
              " <a list of 30 Patch objects>)"
            ]
          },
          "metadata": {
            "tags": []
          },
          "execution_count": 5
        },
        {
          "output_type": "display_data",
          "data": {
            "image/png": "[encoded data removed]",
            "text/plain": [
              "<Figure size 576x396 with 1 Axes>"
            ]
          },
          "metadata": {
            "tags": []
          }
        }
      ]
    },
    {
      "metadata": {
        "id": "vN7QXd-o-tMT",
        "colab_type": "code",
        "outputId": "b5076bea-1546-4db0-e8af-b10005b2459b",
        "colab": {
          "base_uri": "https://localhost:8080/",
          "height": 552
        }
      },
      "cell_type": "code",
      "source": [
        "# Sigmoid initializer with xavier\n",
        "\n",
        "np.random.seed(0)\n",
        "\n",
        "X = np.random.randn(1000).astype(np.float64)\n",
        "fan_in = X.shape[0]\n",
        "fan_out = 10000\n",
        "std = 0.01\n",
        "\n",
        "W = np.random.randn(fan_in, fan_out) / np.sqrt(fan_in)\n",
        "H = np.dot(X, W)\n",
        "H = 1 / (1+ np.exp(-H))\n",
        "\n",
        "plt.hist(H.ravel(), 30, range=(0, 1))"
      ],
      "execution_count": 0,
      "outputs": [
        {
          "output_type": "execute_result",
          "data": {
            "text/plain": [
              "(array([  4.,  42.,  94., 151., 247., 287., 343., 389., 475., 454., 469.,\n",
              "        478., 488., 547., 529., 565., 561., 507., 508., 493., 453., 414.,\n",
              "        393., 353., 271., 193., 145., 111.,  32.,   4.]),\n",
              " array([0.        , 0.03333333, 0.06666667, 0.1       , 0.13333333,\n",
              "        0.16666667, 0.2       , 0.23333333, 0.26666667, 0.3       ,\n",
              "        0.33333333, 0.36666667, 0.4       , 0.43333333, 0.46666667,\n",
              "        0.5       , 0.53333333, 0.56666667, 0.6       , 0.63333333,\n",
              "        0.66666667, 0.7       , 0.73333333, 0.76666667, 0.8       ,\n",
              "        0.83333333, 0.86666667, 0.9       , 0.93333333, 0.96666667,\n",
              "        1.        ]),\n",
              " <a list of 30 Patch objects>)"
            ]
          },
          "metadata": {
            "tags": []
          },
          "execution_count": 14
        },
        {
          "output_type": "display_data",
          "data": {
            "image/png": "[encoded data removed]",
            "text/plain": [
              "<Figure size 576x396 with 1 Axes>"
            ]
          },
          "metadata": {
            "tags": []
          }
        }
      ]
    },
    {
      "metadata": {
        "id": "teQXkFlt-1C0",
        "colab_type": "code",
        "outputId": "6bcaafe8-d7f0-4a08-ab47-19b47848375c",
        "colab": {
          "base_uri": "https://localhost:8080/",
          "height": 552
        }
      },
      "cell_type": "code",
      "source": [
        "# Sigmoid initializer with He\n",
        "\n",
        "np.random.seed(0)\n",
        "\n",
        "X = np.random.randn(1000).astype(np.float64)\n",
        "fan_in = X.shape[0]\n",
        "fan_out = 10000\n",
        "std = 0.01\n",
        "\n",
        "W = np.random.randn(fan_in, fan_out) / np.sqrt(fan_in/2)\n",
        "H = np.dot(X, W)\n",
        "H = 1 / (1+ np.exp(-H))\n",
        "\n",
        "plt.hist(H.ravel(), 30, range=(0, 1))"
      ],
      "execution_count": 0,
      "outputs": [
        {
          "output_type": "execute_result",
          "data": {
            "text/plain": [
              "(array([ 79., 217., 314., 327., 350., 354., 410., 366., 361., 355., 379.,\n",
              "        357., 366., 387., 375., 405., 378., 404., 367., 370., 400., 380.,\n",
              "        371., 345., 372., 352., 324., 240., 208.,  87.]),\n",
              " array([0.        , 0.03333333, 0.06666667, 0.1       , 0.13333333,\n",
              "        0.16666667, 0.2       , 0.23333333, 0.26666667, 0.3       ,\n",
              "        0.33333333, 0.36666667, 0.4       , 0.43333333, 0.46666667,\n",
              "        0.5       , 0.53333333, 0.56666667, 0.6       , 0.63333333,\n",
              "        0.66666667, 0.7       , 0.73333333, 0.76666667, 0.8       ,\n",
              "        0.83333333, 0.86666667, 0.9       , 0.93333333, 0.96666667,\n",
              "        1.        ]),\n",
              " <a list of 30 Patch objects>)"
            ]
          },
          "metadata": {
            "tags": []
          },
          "execution_count": 15
        },
        {
          "output_type": "display_data",
          "data": {
            "image/png": "[encoded data removed]",
            "text/plain": [
              "<Figure size 576x396 with 1 Axes>"
            ]
          },
          "metadata": {
            "tags": []
          }
        }
      ]
    },
    {
      "metadata": {
        "id": "X13RshM66AVv",
        "colab_type": "code",
        "outputId": "cee1f6b6-f1d8-4e35-e428-26e3f9d01942",
        "colab": {
          "base_uri": "https://localhost:8080/",
          "height": 552
        }
      },
      "cell_type": "code",
      "source": [
        "# ReLu initializer std = 1\n",
        "\n",
        "np.random.seed(0)\n",
        "\n",
        "X = np.random.randn(100).astype(np.float64)\n",
        "fan_in = X.shape[0]\n",
        "fan_out = 100\n",
        "std = 1\n",
        "\n",
        "W = np.random.randn(fan_in, fan_out) * std\n",
        "H = np.dot(X, W)\n",
        "\n",
        "for i in range(len(H)):\n",
        "  if H[i] < 0 :\n",
        "    H[i] = 0 \n",
        "  else: \n",
        "    H[i] = H[i]\n",
        "\n",
        "plt.hist(H.ravel(), 30, range=(0, 1))"
      ],
      "execution_count": 0,
      "outputs": [
        {
          "output_type": "execute_result",
          "data": {
            "text/plain": [
              "(array([51.,  0.,  0.,  0.,  0.,  1.,  0.,  0.,  0.,  0.,  0.,  0.,  0.,\n",
              "         0.,  0.,  0.,  0.,  0.,  0.,  0.,  0.,  0.,  0.,  1.,  0.,  0.,\n",
              "         0.,  0.,  0.,  0.]),\n",
              " array([0.        , 0.03333333, 0.06666667, 0.1       , 0.13333333,\n",
              "        0.16666667, 0.2       , 0.23333333, 0.26666667, 0.3       ,\n",
              "        0.33333333, 0.36666667, 0.4       , 0.43333333, 0.46666667,\n",
              "        0.5       , 0.53333333, 0.56666667, 0.6       , 0.63333333,\n",
              "        0.66666667, 0.7       , 0.73333333, 0.76666667, 0.8       ,\n",
              "        0.83333333, 0.86666667, 0.9       , 0.93333333, 0.96666667,\n",
              "        1.        ]),\n",
              " <a list of 30 Patch objects>)"
            ]
          },
          "metadata": {
            "tags": []
          },
          "execution_count": 19
        },
        {
          "output_type": "display_data",
          "data": {
            "image/png": "[encoded data removed]",
            "text/plain": [
              "<Figure size 576x396 with 1 Axes>"
            ]
          },
          "metadata": {
            "tags": []
          }
        }
      ]
    },
    {
      "metadata": {
        "id": "4bzo6AfS6jLW",
        "colab_type": "code",
        "outputId": "3ab65caf-a41f-4e1d-8349-26b9826ba053",
        "colab": {
          "base_uri": "https://localhost:8080/",
          "height": 552
        }
      },
      "cell_type": "code",
      "source": [
        "# ReLu initializer std = 0.01\n",
        "\n",
        "np.random.seed(0)\n",
        "\n",
        "X = np.random.randn(100).astype(np.float64)\n",
        "fan_in = X.shape[0]\n",
        "fan_out = 100\n",
        "std = 0.01\n",
        "\n",
        "W = np.random.randn(fan_in, fan_out) * std\n",
        "H = np.dot(X, W)\n",
        "\n",
        "for i in range(len(H)):\n",
        "  if H[i] < 0 :\n",
        "    H[i] = 0 \n",
        "  else: \n",
        "    H[i] = H[i]\n",
        "\n",
        "plt.hist(H.ravel(), 30, range=(0, 1))"
      ],
      "execution_count": 0,
      "outputs": [
        {
          "output_type": "execute_result",
          "data": {
            "text/plain": [
              "(array([62., 12., 13.,  6.,  4.,  2.,  0.,  1.,  0.,  0.,  0.,  0.,  0.,\n",
              "         0.,  0.,  0.,  0.,  0.,  0.,  0.,  0.,  0.,  0.,  0.,  0.,  0.,\n",
              "         0.,  0.,  0.,  0.]),\n",
              " array([0.        , 0.03333333, 0.06666667, 0.1       , 0.13333333,\n",
              "        0.16666667, 0.2       , 0.23333333, 0.26666667, 0.3       ,\n",
              "        0.33333333, 0.36666667, 0.4       , 0.43333333, 0.46666667,\n",
              "        0.5       , 0.53333333, 0.56666667, 0.6       , 0.63333333,\n",
              "        0.66666667, 0.7       , 0.73333333, 0.76666667, 0.8       ,\n",
              "        0.83333333, 0.86666667, 0.9       , 0.93333333, 0.96666667,\n",
              "        1.        ]),\n",
              " <a list of 30 Patch objects>)"
            ]
          },
          "metadata": {
            "tags": []
          },
          "execution_count": 32
        },
        {
          "output_type": "display_data",
          "data": {
            "image/png": "[encoded data removed]",
            "text/plain": [
              "<Figure size 576x396 with 1 Axes>"
            ]
          },
          "metadata": {
            "tags": []
          }
        }
      ]
    },
    {
      "metadata": {
        "id": "liQyl6UA-2wr",
        "colab_type": "code",
        "outputId": "0bf2015f-4a07-459e-a632-6595e11305e8",
        "colab": {
          "base_uri": "https://localhost:8080/",
          "height": 552
        }
      },
      "cell_type": "code",
      "source": [
        "# ReLu initializer with xavier\n",
        "\n",
        "np.random.seed(0)\n",
        "\n",
        "X = np.random.randn(100).astype(np.float64)\n",
        "fan_in = X.shape[0]\n",
        "fan_out = 1000\n",
        "std = 0.01\n",
        "\n",
        "W = np.random.randn(fan_in, fan_out) / np.sqrt(fan_in)\n",
        "H = np.dot(X, W)\n",
        "\n",
        "for i in range(len(H)):\n",
        "  if H[i] < 0 :\n",
        "    H[i] = 0 \n",
        "  else: \n",
        "    H[i] = H[i]\n",
        "\n",
        "plt.hist(H.ravel(), 30, range=(0, 1))\n",
        "\n",
        "# 궁합 안 맞음!"
      ],
      "execution_count": 0,
      "outputs": [
        {
          "output_type": "execute_result",
          "data": {
            "text/plain": [
              "(array([524.,  21.,   8.,  18.,   9.,  11.,   7.,   9.,  13.,  14.,  10.,\n",
              "         10.,   8.,  17.,  10.,  12.,  17.,  13.,   8.,  14.,   6.,  11.,\n",
              "         11.,  13.,  10.,   7.,   8.,   9.,   4.,   8.]),\n",
              " array([0.        , 0.03333333, 0.06666667, 0.1       , 0.13333333,\n",
              "        0.16666667, 0.2       , 0.23333333, 0.26666667, 0.3       ,\n",
              "        0.33333333, 0.36666667, 0.4       , 0.43333333, 0.46666667,\n",
              "        0.5       , 0.53333333, 0.56666667, 0.6       , 0.63333333,\n",
              "        0.66666667, 0.7       , 0.73333333, 0.76666667, 0.8       ,\n",
              "        0.83333333, 0.86666667, 0.9       , 0.93333333, 0.96666667,\n",
              "        1.        ]),\n",
              " <a list of 30 Patch objects>)"
            ]
          },
          "metadata": {
            "tags": []
          },
          "execution_count": 28
        },
        {
          "output_type": "display_data",
          "data": {
            "image/png": "[encoded data removed]",
            "text/plain": [
              "<Figure size 576x396 with 1 Axes>"
            ]
          },
          "metadata": {
            "tags": []
          }
        }
      ]
    },
    {
      "metadata": {
        "id": "S2J3t87c_2LK",
        "colab_type": "code",
        "outputId": "6956410e-5fa0-4e3b-9353-879ac860e07d",
        "colab": {
          "base_uri": "https://localhost:8080/",
          "height": 552
        }
      },
      "cell_type": "code",
      "source": [
        "# ReLu initializer with He\n",
        "\n",
        "np.random.seed(0)\n",
        "\n",
        "X = np.random.randn(100).astype(np.float64)\n",
        "fan_in = X.shape[0]\n",
        "fan_out = 1000\n",
        "std = 0.01\n",
        "\n",
        "W = np.random.randn(fan_in, fan_out) / np.sqrt(fan_in/2)\n",
        "H = np.dot(X, W)\n",
        "\n",
        "for i in range(len(H)):\n",
        "  if H[i] < 0 :\n",
        "    H[i] = 0 \n",
        "  else: \n",
        "    H[i] = H[i]\n",
        "\n",
        "plt.hist(H.ravel(), 30, range=(0, 1))"
      ],
      "execution_count": 0,
      "outputs": [
        {
          "output_type": "execute_result",
          "data": {
            "text/plain": [
              "(array([521.,   9.,  15.,   0.,  19.,   8.,   8.,   8.,   6.,   4.,   9.,\n",
              "          4.,  12.,   9.,   7.,   7.,   8.,   5.,  11.,  10.,   6.,   8.,\n",
              "         10.,  14.,   6.,  10.,   6.,  13.,   3.,   4.]),\n",
              " array([0.        , 0.03333333, 0.06666667, 0.1       , 0.13333333,\n",
              "        0.16666667, 0.2       , 0.23333333, 0.26666667, 0.3       ,\n",
              "        0.33333333, 0.36666667, 0.4       , 0.43333333, 0.46666667,\n",
              "        0.5       , 0.53333333, 0.56666667, 0.6       , 0.63333333,\n",
              "        0.66666667, 0.7       , 0.73333333, 0.76666667, 0.8       ,\n",
              "        0.83333333, 0.86666667, 0.9       , 0.93333333, 0.96666667,\n",
              "        1.        ]),\n",
              " <a list of 30 Patch objects>)"
            ]
          },
          "metadata": {
            "tags": []
          },
          "execution_count": 27
        },
        {
          "output_type": "display_data",
          "data": {
            "image/png": "[encoded data removed]",
            "text/plain": [
              "<Figure size 576x396 with 1 Axes>"
            ]
          },
          "metadata": {
            "tags": []
          }
        }
      ]
    },
    {
      "metadata": {
        "id": "Ecnrsccb6pGR",
        "colab_type": "code",
        "outputId": "289c81d3-e8d8-45fc-e5d6-d1d420ea750e",
        "colab": {
          "base_uri": "https://localhost:8080/",
          "height": 552
        }
      },
      "cell_type": "code",
      "source": [
        "# tanh initializer std = 1\n",
        "\n",
        "np.random.seed(0)\n",
        "\n",
        "X = np.random.randn(100).astype(np.float64)\n",
        "fan_in = X.shape[0]\n",
        "fan_out = 100\n",
        "std = 1\n",
        "\n",
        "W = np.random.randn(fan_in, fan_out) * std\n",
        "H = np.dot(X, W)\n",
        "H = np.tanh(H)\n",
        "\n",
        "plt.hist(H.ravel(), 30, range=(0, 1))"
      ],
      "execution_count": 0,
      "outputs": [
        {
          "output_type": "execute_result",
          "data": {
            "text/plain": [
              "(array([ 0.,  0.,  0.,  0.,  0.,  1.,  0.,  0.,  0.,  0.,  0.,  0.,  0.,\n",
              "         0.,  0.,  0.,  0.,  0.,  0.,  1.,  0.,  0.,  0.,  0.,  0.,  1.,\n",
              "         2.,  2.,  2., 40.]),\n",
              " array([0.        , 0.03333333, 0.06666667, 0.1       , 0.13333333,\n",
              "        0.16666667, 0.2       , 0.23333333, 0.26666667, 0.3       ,\n",
              "        0.33333333, 0.36666667, 0.4       , 0.43333333, 0.46666667,\n",
              "        0.5       , 0.53333333, 0.56666667, 0.6       , 0.63333333,\n",
              "        0.66666667, 0.7       , 0.73333333, 0.76666667, 0.8       ,\n",
              "        0.83333333, 0.86666667, 0.9       , 0.93333333, 0.96666667,\n",
              "        1.        ]),\n",
              " <a list of 30 Patch objects>)"
            ]
          },
          "metadata": {
            "tags": []
          },
          "execution_count": 12
        },
        {
          "output_type": "display_data",
          "data": {
            "image/png": "[encoded data removed]",
            "text/plain": [
              "<Figure size 576x396 with 1 Axes>"
            ]
          },
          "metadata": {
            "tags": []
          }
        }
      ]
    },
    {
      "metadata": {
        "id": "6e4lzduk8sT_",
        "colab_type": "code",
        "outputId": "fd63c44c-557b-479f-fc7c-fe8e81065ee8",
        "colab": {
          "base_uri": "https://localhost:8080/",
          "height": 552
        }
      },
      "cell_type": "code",
      "source": [
        "# tanh initializer std = 0.01\n",
        "\n",
        "np.random.seed(0)\n",
        "\n",
        "X = np.random.randn(100).astype(np.float64)\n",
        "fan_in = X.shape[0]\n",
        "fan_out = 100\n",
        "std = 0.01\n",
        "\n",
        "W = np.random.randn(fan_in, fan_out) * std\n",
        "H = np.dot(X, W)\n",
        "H = np.tanh(H)\n",
        "\n",
        "plt.hist(H.ravel(), 30, range=(0, 1))"
      ],
      "execution_count": 0,
      "outputs": [
        {
          "output_type": "execute_result",
          "data": {
            "text/plain": [
              "(array([11., 12., 13.,  6.,  4.,  2.,  0.,  1.,  0.,  0.,  0.,  0.,  0.,\n",
              "         0.,  0.,  0.,  0.,  0.,  0.,  0.,  0.,  0.,  0.,  0.,  0.,  0.,\n",
              "         0.,  0.,  0.,  0.]),\n",
              " array([0.        , 0.03333333, 0.06666667, 0.1       , 0.13333333,\n",
              "        0.16666667, 0.2       , 0.23333333, 0.26666667, 0.3       ,\n",
              "        0.33333333, 0.36666667, 0.4       , 0.43333333, 0.46666667,\n",
              "        0.5       , 0.53333333, 0.56666667, 0.6       , 0.63333333,\n",
              "        0.66666667, 0.7       , 0.73333333, 0.76666667, 0.8       ,\n",
              "        0.83333333, 0.86666667, 0.9       , 0.93333333, 0.96666667,\n",
              "        1.        ]),\n",
              " <a list of 30 Patch objects>)"
            ]
          },
          "metadata": {
            "tags": []
          },
          "execution_count": 23
        },
        {
          "output_type": "display_data",
          "data": {
            "image/png": "[encoded data removed]",
            "text/plain": [
              "<Figure size 576x396 with 1 Axes>"
            ]
          },
          "metadata": {
            "tags": []
          }
        }
      ]
    },
    {
      "metadata": {
        "id": "WaBoNqcCzucp",
        "colab_type": "code",
        "outputId": "e0da339d-5b8c-42e5-e3c7-a64838b97bb4",
        "colab": {
          "base_uri": "https://localhost:8080/",
          "height": 552
        }
      },
      "cell_type": "code",
      "source": [
        "# tanh initializer with xavier\n",
        "\n",
        "np.random.seed(0)\n",
        "\n",
        "X = np.random.randn(100).astype(np.float64)\n",
        "fan_in = X.shape[0]\n",
        "fan_out = 10000\n",
        "std = 0.01\n",
        "\n",
        "W = np.random.randn(fan_in, fan_out) / (np.sqrt(fan_in))\n",
        "H = np.dot(X, W)\n",
        "H = np.tanh(H)\n",
        "\n",
        "plt.hist(H.ravel(), 30, range=(0, 1))"
      ],
      "execution_count": 0,
      "outputs": [
        {
          "output_type": "execute_result",
          "data": {
            "text/plain": [
              "(array([124., 129., 133., 144., 141., 133., 132., 137., 134., 121., 143.,\n",
              "        151., 135., 166., 143., 164., 171., 135., 142., 167., 164., 178.,\n",
              "        214., 198., 207., 232., 228., 252., 254., 220.]),\n",
              " array([0.        , 0.03333333, 0.06666667, 0.1       , 0.13333333,\n",
              "        0.16666667, 0.2       , 0.23333333, 0.26666667, 0.3       ,\n",
              "        0.33333333, 0.36666667, 0.4       , 0.43333333, 0.46666667,\n",
              "        0.5       , 0.53333333, 0.56666667, 0.6       , 0.63333333,\n",
              "        0.66666667, 0.7       , 0.73333333, 0.76666667, 0.8       ,\n",
              "        0.83333333, 0.86666667, 0.9       , 0.93333333, 0.96666667,\n",
              "        1.        ]),\n",
              " <a list of 30 Patch objects>)"
            ]
          },
          "metadata": {
            "tags": []
          },
          "execution_count": 24
        },
        {
          "output_type": "display_data",
          "data": {
            "image/png": "[encoded data removed]",
            "text/plain": [
              "<Figure size 576x396 with 1 Axes>"
            ]
          },
          "metadata": {
            "tags": []
          }
        }
      ]
    },
    {
      "metadata": {
        "id": "dOW5S9fV_cH1",
        "colab_type": "code",
        "outputId": "c6efa547-a3de-400c-faef-75454ef8beed",
        "colab": {
          "base_uri": "https://localhost:8080/",
          "height": 552
        }
      },
      "cell_type": "code",
      "source": [
        "# tanh initializer with He\n",
        "\n",
        "np.random.seed(0)\n",
        "\n",
        "X = np.random.randn(100).astype(np.float64)\n",
        "fan_in = X.shape[0]\n",
        "fan_out = 10000\n",
        "std = 0.01\n",
        "\n",
        "W = np.random.randn(fan_in, fan_out) / (np.sqrt(fan_in/2))\n",
        "H = np.dot(X, W)\n",
        "H = np.tanh(H)\n",
        "\n",
        "plt.hist(H.ravel(), 30, range=(0, 1))"
      ],
      "execution_count": 0,
      "outputs": [
        {
          "output_type": "execute_result",
          "data": {
            "text/plain": [
              "(array([ 86.,  97.,  84., 100.,  93., 117.,  93.,  86., 112.,  96., 105.,\n",
              "        100.,  96., 112., 108., 116., 125., 136., 134., 142., 158., 150.,\n",
              "        155., 153., 194., 233., 285., 329., 424., 773.]),\n",
              " array([0.        , 0.03333333, 0.06666667, 0.1       , 0.13333333,\n",
              "        0.16666667, 0.2       , 0.23333333, 0.26666667, 0.3       ,\n",
              "        0.33333333, 0.36666667, 0.4       , 0.43333333, 0.46666667,\n",
              "        0.5       , 0.53333333, 0.56666667, 0.6       , 0.63333333,\n",
              "        0.66666667, 0.7       , 0.73333333, 0.76666667, 0.8       ,\n",
              "        0.83333333, 0.86666667, 0.9       , 0.93333333, 0.96666667,\n",
              "        1.        ]),\n",
              " <a list of 30 Patch objects>)"
            ]
          },
          "metadata": {
            "tags": []
          },
          "execution_count": 25
        },
        {
          "output_type": "display_data",
          "data": {
            "image/png": "[encoded data removed]",
            "text/plain": [
              "<Figure size 576x396 with 1 Axes>"
            ]
          },
          "metadata": {
            "tags": []
          }
        }
      ]
    },
    {
      "metadata": {
        "id": "SGdGKLVrBPnH",
        "colab_type": "code",
        "colab": {}
      },
      "cell_type": "code",
      "source": [
        ""
      ],
      "execution_count": 0,
      "outputs": []
    }
  ]
}